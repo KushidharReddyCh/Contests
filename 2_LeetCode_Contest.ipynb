{
 "cells": [
  {
   "cell_type": "code",
   "execution_count": 102,
   "id": "f0924114",
   "metadata": {},
   "outputs": [
    {
     "data": {
      "text/plain": [
       "['abba', 'cd']"
      ]
     },
     "execution_count": 102,
     "metadata": {},
     "output_type": "execute_result"
    }
   ],
   "source": [
    "# Question 1\n",
    "def isAnagram(s1,s2):\n",
    "    if len(s1) != len(s2):\n",
    "        return False\n",
    "    char_arr = [0]*26\n",
    "    for idx in range(len(s1)):\n",
    "        idx1,idx2  = ord(s1[idx])-ord(\"a\"),ord(s2[idx])-ord(\"a\")\n",
    "        char_arr[idx1] += 1\n",
    "        char_arr[idx2] -= 1\n",
    "    for elem in char_arr:\n",
    "        if elem != 0:\n",
    "            return False\n",
    "    return True\n",
    "\n",
    "def removeAnagrams(words):\n",
    "    idx = len(words)-1\n",
    "    res = []\n",
    "    while idx > 0:\n",
    "        if isAnagram(words[idx],words[idx-1]):\n",
    "            idx -= 1\n",
    "        else:\n",
    "            res.append(words[idx])\n",
    "            idx -= 1\n",
    "    res.append(words[0])\n",
    "    return res[::-1]\n",
    "\n",
    "words = [\"abba\",\"baba\",\"bbaa\",\"cd\",\"cd\"]\n",
    "removeAnagrams(words)"
   ]
  },
  {
   "cell_type": "code",
   "execution_count": 70,
   "id": "7bdc719a",
   "metadata": {},
   "outputs": [],
   "source": [
    "# Question 2 : Time Limit Error\n",
    "def maxConsecutive(bottom, top, special):\n",
    "    count,res = 0,0\n",
    "    start,idx = bottom,bottom\n",
    "    special = set(special)\n",
    "    while idx <top:\n",
    "        if idx in special:\n",
    "            if idx != start:\n",
    "                    res = max(res,idx-start)\n",
    "            start = idx+1\n",
    "        idx += 1\n",
    "    if top not in special:\n",
    "        res = max(res,top-start+1)\n",
    "    else:\n",
    "        res = max(res,top-start)\n",
    "    return res"
   ]
  },
  {
   "cell_type": "code",
   "execution_count": 103,
   "id": "19fab043",
   "metadata": {},
   "outputs": [],
   "source": [
    "# Question 2 : Efficient\n",
    "def maxConsecutive(s,e,arr):\n",
    "    arr = sorted(arr)\n",
    "    res = arr[0]-s\n",
    "    for idx in range(1,len(arr)):\n",
    "        res = max(res,arr[idx]-arr[idx-1]-1)\n",
    "    res = max(res,e-arr[-1])\n",
    "    return res"
   ]
  },
  {
   "cell_type": "code",
   "execution_count": 105,
   "id": "adec81a4",
   "metadata": {},
   "outputs": [
    {
     "data": {
      "text/plain": [
       "12"
      ]
     },
     "execution_count": 105,
     "metadata": {},
     "output_type": "execute_result"
    }
   ],
   "source": [
    "maxConsecutive(28,50,[35,48])"
   ]
  },
  {
   "cell_type": "code",
   "execution_count": 107,
   "id": "9fb52c94",
   "metadata": {},
   "outputs": [],
   "source": [
    "# Question 3 : Solved after the contest\n",
    "def largestCombination(nums):\n",
    "    \"\"\"\n",
    "    :type candidates: List[int]\n",
    "    :rtype: int\n",
    "    \"\"\"\n",
    "    res = 0\n",
    "    for i in range(0,32):\n",
    "        count = 0\n",
    "        for num in nums:\n",
    "            if ((num>>i)&1) == 1:\n",
    "                count += 1\n",
    "        res = max(res,count)\n",
    "    return res"
   ]
  },
  {
   "cell_type": "code",
   "execution_count": null,
   "id": "56e70ae7",
   "metadata": {},
   "outputs": [],
   "source": []
  }
 ],
 "metadata": {
  "kernelspec": {
   "display_name": "Python 3",
   "language": "python",
   "name": "python3"
  },
  "language_info": {
   "codemirror_mode": {
    "name": "ipython",
    "version": 3
   },
   "file_extension": ".py",
   "mimetype": "text/x-python",
   "name": "python",
   "nbconvert_exporter": "python",
   "pygments_lexer": "ipython3",
   "version": "3.8.8"
  }
 },
 "nbformat": 4,
 "nbformat_minor": 5
}
