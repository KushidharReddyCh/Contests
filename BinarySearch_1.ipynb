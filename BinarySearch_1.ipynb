{
 "cells": [
  {
   "cell_type": "code",
   "execution_count": 1,
   "id": "cdf19e26",
   "metadata": {},
   "outputs": [],
   "source": [
    "# 1:FizzBuzz\n",
    "# https://binarysearch.com/problems/FizzBuzz\n",
    "def solve(n):\n",
    "    res = [0]*n;\n",
    "    for num in range(1,n+1):\n",
    "        if num%3 == 0 and num%5 == 0:\n",
    "            res[num-1] = \"FizzBuzz\"\n",
    "        elif num%3 == 0:\n",
    "            res[num-1] = \"Fizz\"\n",
    "        elif num%5 == 0:\n",
    "            res[num-1] = \"Buzz\"\n",
    "        else:\n",
    "            res[num-1] = str(num)\n",
    "    return res"
   ]
  },
  {
   "cell_type": "code",
   "execution_count": 2,
   "id": "4e07ff5b",
   "metadata": {},
   "outputs": [],
   "source": [
    "# 2:Search in a Binary Search Tree\n",
    "# https://binarysearch.com/problems/Search-in-a-Binary-Search-Tree\n",
    "def solve(root, val):\n",
    "    while root != None:\n",
    "        if root.val == val:\n",
    "            return True\n",
    "        elif root.val < val:\n",
    "            root = root.right\n",
    "        else:\n",
    "            root = root.left\n",
    "    return False"
   ]
  },
  {
   "cell_type": "code",
   "execution_count": 3,
   "id": "6198739e",
   "metadata": {},
   "outputs": [],
   "source": [
    "# 3:Count BST Nodes in a Range\n",
    "# https://binarysearch.com/problems/Count-BST-Nodes-in-a-Range\n",
    "def count(root,lo,hi):\n",
    "    if root == None:\n",
    "        return 0\n",
    "    adder = 0\n",
    "    if root.val >= lo and root.val <= hi:\n",
    "        adder = 1\n",
    "    return adder+count(root.left,lo,hi)+count(root.right,lo,hi)\n",
    "\n",
    "\n",
    "def solve(root, lo, hi):\n",
    "    return count(root,lo,hi)\n"
   ]
  },
  {
   "cell_type": "code",
   "execution_count": 4,
   "id": "e55125e0",
   "metadata": {},
   "outputs": [
    {
     "data": {
      "text/plain": [
       "[4, 1, 1, 4, 1]"
      ]
     },
     "execution_count": 4,
     "metadata": {},
     "output_type": "execute_result"
    }
   ],
   "source": [
    "# 4:Partition String\n",
    "# https://binarysearch.com/problems/Partition-String\n",
    "def solve(s):\n",
    "    count_dict ={}\n",
    "    for idx in range(len(s)):\n",
    "        count_dict[s[idx]] = idx\n",
    "    \n",
    "    res = []\n",
    "    idx,target = 0,count_dict[s[0]]\n",
    "    while True:\n",
    "        length = 0\n",
    "        while idx <= target and idx<len(s):\n",
    "            if count_dict[s[idx]] > target:\n",
    "                target = count_dict[s[idx]]\n",
    "            idx += 1\n",
    "            length += 1\n",
    "        res.append(length)\n",
    "        if idx<len(s):\n",
    "            target = count_dict[s[idx]]\n",
    "        else:\n",
    "            return res\n",
    "    return res\n",
    "s = \"cocoplaydae\"\n",
    "solve(s)"
   ]
  }
 ],
 "metadata": {
  "kernelspec": {
   "display_name": "Python 3",
   "language": "python",
   "name": "python3"
  },
  "language_info": {
   "codemirror_mode": {
    "name": "ipython",
    "version": 3
   },
   "file_extension": ".py",
   "mimetype": "text/x-python",
   "name": "python",
   "nbconvert_exporter": "python",
   "pygments_lexer": "ipython3",
   "version": "3.8.8"
  }
 },
 "nbformat": 4,
 "nbformat_minor": 5
}
